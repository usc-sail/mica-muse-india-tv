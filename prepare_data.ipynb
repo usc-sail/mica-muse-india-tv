{
 "cells": [
  {
   "cell_type": "code",
   "execution_count": 1,
   "metadata": {},
   "outputs": [],
   "source": [
    "import math\n",
    "import collections\n",
    "import pandas as pd\n",
    "import numpy as np\n",
    "import matplotlib.pyplot as plt\n",
    "\n",
    "plt.rcParams.update({\"font.size\": 18,\n",
    "                     \"font.family\": \"sans-serif\",\n",
    "                     \"figure.figsize\": (20, 8),\n",
    "                     \"axes.facecolor\": \"ffffff\",\n",
    "                     \"figure.dpi\"       : 200,\n",
    "                     \"legend.fontsize\"  : \"large\",\n",
    "                     \"figure.titlesize\" : \"medium\",\n",
    "                     \"lines.linewidth\": 3,\n",
    "})"
   ]
  },
  {
   "cell_type": "code",
   "execution_count": 2,
   "metadata": {},
   "outputs": [],
   "source": [
    "# set filenames\n",
    "video_analysis_file = \"data/[MUSE India] [RP Outputs] - Muse_India_Study_yt_local.csv.csv\"\n",
    "languages = [\"Bengali\", \"Hindi\", \"Kannada\", \"Tamil\", \"Telugu\"]\n",
    "language_analyis_files = [\n",
    "    \"data/[MUSE India] [Final] Language Analysis Results - bn.csv\",\n",
    "    \"data/[MUSE India] [Final] Language Analysis Results - hi.csv\",\n",
    "    \"data/[MUSE India] [Final] Language Analysis Results - kn.csv\",\n",
    "    \"data/[MUSE India] [Final] Language Analysis Results - ta.csv\",\n",
    "    \"data/[MUSE India] [Final] Language Analysis Results - te.csv\"\n",
    "    ]"
   ]
  },
  {
   "cell_type": "code",
   "execution_count": 3,
   "metadata": {},
   "outputs": [],
   "source": [
    "# read the video analysis and language analysis dataframes\n",
    "video_analysis_df = pd.read_csv(video_analysis_file, index_col=None)\n",
    "language_analyis_dfs = [pd.read_csv(language_analyis_file, index_col=None) \n",
    "                        for language_analyis_file in language_analyis_files]\n",
    "language_analyis_df = pd.concat(language_analyis_dfs)"
   ]
  },
  {
   "cell_type": "code",
   "execution_count": 4,
   "metadata": {},
   "outputs": [
    {
     "name": "stdout",
     "output_type": "stream",
     "text": [
      "Year\n",
      "Rank\n",
      "Program name\n",
      "Channel\n",
      "Program Theme\n",
      "Program Genre\n",
      "Programme Language\n",
      "# of episodes\n",
      "rat%/AP\n",
      "Daily Avg Rch%\n",
      "Daily Avg Rch'000\n",
      "Ats(viewer)\n",
      "Program duration\n",
      "Cat No.\n",
      "YouTu.be link\n",
      "video_key\n",
      "Notes\n",
      "frames_analyzed\n",
      "(female, [0, 18), [-inf, 1.1))\n",
      "(female, [0, 18), [1.1, 2.1))\n",
      "(female, [0, 18), [2.1, 3.1))\n",
      "(female, [0, 18), [3.1, 4.1))\n",
      "(female, [0, 18), [4.1, 5.1))\n",
      "(female, [0, 18), [5.1, 6.1))\n",
      "(female, [0, 18), [6.1, 7.1))\n",
      "(female, [0, 18), [7.1, 8.1))\n",
      "(female, [0, 18), [8.1, 9.1))\n",
      "(female, [18, 33), [-inf, 1.1))\n",
      "(female, [18, 33), [1.1, 2.1))\n",
      "(female, [18, 33), [2.1, 3.1))\n",
      "(female, [18, 33), [3.1, 4.1))\n",
      "(female, [18, 33), [4.1, 5.1))\n",
      "(female, [18, 33), [5.1, 6.1))\n",
      "(female, [18, 33), [6.1, 7.1))\n",
      "(female, [18, 33), [7.1, 8.1))\n",
      "(female, [18, 33), [8.1, 9.1))\n",
      "(female, [18, 33), [9.1, 10.1))\n",
      "(female, [33, 60), [-inf, 1.1))\n",
      "(female, [33, 60), [1.1, 2.1))\n",
      "(female, [33, 60), [2.1, 3.1))\n",
      "(female, [33, 60), [3.1, 4.1))\n",
      "(female, [33, 60), [4.1, 5.1))\n",
      "(female, [33, 60), [5.1, 6.1))\n",
      "(female, [33, 60), [6.1, 7.1))\n",
      "(female, [33, 60), [7.1, 8.1))\n",
      "(female, [33, 60), [8.1, 9.1))\n",
      "(female, [33, 60), [9.1, 10.1))\n",
      "(female, [60, inf), [-inf, 1.1))\n",
      "(female, [60, inf), [1.1, 2.1))\n",
      "(female, [60, inf), [2.1, 3.1))\n",
      "(female, [60, inf), [3.1, 4.1))\n",
      "(female, [60, inf), [4.1, 5.1))\n",
      "(female, [60, inf), [5.1, 6.1))\n",
      "(female, [60, inf), [6.1, 7.1))\n",
      "(female, [60, inf), [7.1, 8.1))\n",
      "(female, [60, inf), [9.1, 10.1))\n",
      "(male, [0, 18), [-inf, 1.1))\n",
      "(male, [0, 18), [1.1, 2.1))\n",
      "(male, [0, 18), [2.1, 3.1))\n",
      "(male, [0, 18), [3.1, 4.1))\n",
      "(male, [0, 18), [4.1, 5.1))\n",
      "(male, [0, 18), [5.1, 6.1))\n",
      "(male, [0, 18), [6.1, 7.1))\n",
      "(male, [0, 18), [7.1, 8.1))\n",
      "(male, [0, 18), [8.1, 9.1))\n",
      "(male, [18, 33), [-inf, 1.1))\n",
      "(male, [18, 33), [1.1, 2.1))\n",
      "(male, [18, 33), [2.1, 3.1))\n",
      "(male, [18, 33), [3.1, 4.1))\n",
      "(male, [18, 33), [4.1, 5.1))\n",
      "(male, [18, 33), [5.1, 6.1))\n",
      "(male, [18, 33), [6.1, 7.1))\n",
      "(male, [18, 33), [7.1, 8.1))\n",
      "(male, [18, 33), [8.1, 9.1))\n",
      "(male, [18, 33), [9.1, 10.1))\n",
      "(male, [33, 60), [-inf, 1.1))\n",
      "(male, [33, 60), [1.1, 2.1))\n",
      "(male, [33, 60), [2.1, 3.1))\n",
      "(male, [33, 60), [3.1, 4.1))\n",
      "(male, [33, 60), [4.1, 5.1))\n",
      "(male, [33, 60), [5.1, 6.1))\n",
      "(male, [33, 60), [6.1, 7.1))\n",
      "(male, [33, 60), [7.1, 8.1))\n",
      "(male, [33, 60), [8.1, 9.1))\n",
      "(male, [33, 60), [9.1, 10.1))\n",
      "(male, [60, inf), [-inf, 1.1))\n",
      "(male, [60, inf), [1.1, 2.1))\n",
      "(male, [60, inf), [2.1, 3.1))\n",
      "(male, [60, inf), [3.1, 4.1))\n",
      "(male, [60, inf), [4.1, 5.1))\n",
      "(male, [60, inf), [5.1, 6.1))\n",
      "(male, [60, inf), [6.1, 7.1))\n",
      "(male, [60, inf), [7.1, 8.1))\n",
      "(male, [60, inf), [8.1, 9.1))\n",
      "(male, [60, inf), [9.1, 10.1))\n",
      "faces\n",
      "mst_scale_1\n",
      "mst_scale_2\n",
      "mst_scale_3\n",
      "mst_scale_4\n",
      "mst_scale_5\n",
      "mst_scale_6\n",
      "mst_scale_7\n",
      "mst_scale_8\n",
      "mst_scale_9\n",
      "mst_scale_10\n",
      "[0, 18)\n",
      "[18, 33)\n",
      "[33, 60)\n",
      "[60, inf)\n",
      "masculine_faces\n",
      "feminine_faces\n",
      "age_1_screen_time\n",
      "age_2_screen_time\n",
      "age_3_screen_time\n",
      "age_4_screen_time\n",
      "(female, [60, inf), [8.1, 9.1))\n",
      "(male, [0, 18), [9.1, 10.1))\n",
      "(female, [0, 18), [9.1, 10.1))\n"
     ]
    }
   ],
   "source": [
    "# print column names of the video analysis data\n",
    "for col in video_analysis_df.columns:\n",
    "    print(col)"
   ]
  },
  {
   "cell_type": "code",
   "execution_count": 5,
   "metadata": {},
   "outputs": [
    {
     "data": {
      "text/plain": [
       "Counter({2018: 225, 2019: 231, 2020: 250, 2021: 228, 2022: 265})"
      ]
     },
     "execution_count": 5,
     "metadata": {},
     "output_type": "execute_result"
    }
   ],
   "source": [
    "collections.Counter(video_analysis_df[\"Year\"])"
   ]
  },
  {
   "cell_type": "code",
   "execution_count": 9,
   "metadata": {},
   "outputs": [
    {
     "data": {
      "text/plain": [
       "152"
      ]
     },
     "execution_count": 9,
     "metadata": {},
     "output_type": "execute_result"
    }
   ],
   "source": [
    "video_analysis_df[\"Program name\"].unique().size"
   ]
  },
  {
   "cell_type": "code",
   "execution_count": 25,
   "metadata": {},
   "outputs": [
    {
     "data": {
      "text/plain": [
       "Program name\n",
       "AALTA PHORING                         [2022]\n",
       "ABHIYUM NANUM             [2020, 2021, 2022]\n",
       "ADORINI                               [2018]\n",
       "AGNISAKSHI                            [2018]\n",
       "ALO CHHAYA                            [2019]\n",
       "                                 ...        \n",
       "VISHNU PURAN                          [2020]\n",
       "YAARE NEE MOHINI          [2018, 2019, 2020]\n",
       "YAMALEELA                             [2020]\n",
       "YEH HAI CHAHATEIN                     [2022]\n",
       "ZINDAGI MERE GHAR AANA                [2022]\n",
       "Name: Year, Length: 152, dtype: object"
      ]
     },
     "execution_count": 25,
     "metadata": {},
     "output_type": "execute_result"
    }
   ],
   "source": [
    "video_analysis_df[[\"Program name\", \"Year\"]].groupby(\"Program name\")[\"Year\"].unique()"
   ]
  },
  {
   "cell_type": "code",
   "execution_count": 10,
   "metadata": {},
   "outputs": [
    {
     "data": {
      "text/plain": [
       "25"
      ]
     },
     "execution_count": 10,
     "metadata": {},
     "output_type": "execute_result"
    }
   ],
   "source": [
    "video_analysis_df[\"Channel\"].unique().size"
   ]
  },
  {
   "cell_type": "code",
   "execution_count": 41,
   "metadata": {},
   "outputs": [
    {
     "data": {
      "text/plain": [
       "Program name\n",
       "RAMAYAN      [Dangal, Dangal/DD National]\n",
       "TRINAYANI        [Zee Bangla, Zee Telugu]\n",
       "Name: Channel, dtype: object"
      ]
     },
     "execution_count": 41,
     "metadata": {},
     "output_type": "execute_result"
    }
   ],
   "source": [
    "df = video_analysis_df[[\"Program name\", \"Channel\"]].groupby(\"Program name\")[\"Channel\"].unique()\n",
    "df[df.apply(len) > 1]"
   ]
  },
  {
   "cell_type": "code",
   "execution_count": 11,
   "metadata": {},
   "outputs": [
    {
     "data": {
      "text/plain": [
       "4"
      ]
     },
     "execution_count": 11,
     "metadata": {},
     "output_type": "execute_result"
    }
   ],
   "source": [
    "video_analysis_df[\"Program Theme\"].unique().size"
   ]
  },
  {
   "cell_type": "code",
   "execution_count": 12,
   "metadata": {},
   "outputs": [
    {
     "data": {
      "text/plain": [
       "Counter({'DRAMA/SOAP': 1115,\n",
       "         'ACTION/THRILLER': 10,\n",
       "         'MYTHOLOGICAL/COSTUME DRAMAS': 69,\n",
       "         'CHILDRENS PROGRAM': 5})"
      ]
     },
     "execution_count": 12,
     "metadata": {},
     "output_type": "execute_result"
    }
   ],
   "source": [
    "collections.Counter(video_analysis_df[\"Program Theme\"])"
   ]
  },
  {
   "cell_type": "code",
   "execution_count": 35,
   "metadata": {},
   "outputs": [
    {
     "data": {
      "text/plain": [
       "array([1])"
      ]
     },
     "execution_count": 35,
     "metadata": {},
     "output_type": "execute_result"
    }
   ],
   "source": [
    "video_analysis_df[[\"Program name\", \"Program Theme\"]].groupby(\"Program name\")[\"Program Theme\"].unique().apply(len).unique()"
   ]
  },
  {
   "cell_type": "code",
   "execution_count": 40,
   "metadata": {},
   "outputs": [
    {
     "data": {
      "text/plain": [
       "Program name\n",
       "TRINAYANI    [BENGALI, TELUGU]\n",
       "Name: Programme Language, dtype: object"
      ]
     },
     "execution_count": 40,
     "metadata": {},
     "output_type": "execute_result"
    }
   ],
   "source": [
    "df = video_analysis_df[[\"Program name\", \"Programme Language\"]].groupby(\"Program name\")[\"Programme Language\"].unique()\n",
    "df[df.apply(len) > 1]"
   ]
  },
  {
   "cell_type": "code",
   "execution_count": 44,
   "metadata": {},
   "outputs": [
    {
     "data": {
      "text/plain": [
       "Year  Programme Language\n",
       "2018  BENGALI               35\n",
       "      HINDI                 47\n",
       "      KANNADA               49\n",
       "      TAMIL                 45\n",
       "      TELUGU                49\n",
       "2019  BENGALI               36\n",
       "      HINDI                 50\n",
       "      KANNADA               45\n",
       "      TAMIL                 50\n",
       "      TELUGU                50\n",
       "2020  BENGALI               41\n",
       "      HINDI                 65\n",
       "      KANNADA               50\n",
       "      TAMIL                 45\n",
       "      TELUGU                49\n",
       "2021  BENGALI               49\n",
       "      HINDI                 50\n",
       "      KANNADA               49\n",
       "      TAMIL                 50\n",
       "      TELUGU                30\n",
       "2022  BENGALI               69\n",
       "      HINDI                 56\n",
       "      KANNADA               39\n",
       "      TAMIL                 50\n",
       "      TELUGU                51\n",
       "Name: Program name, dtype: int64"
      ]
     },
     "execution_count": 44,
     "metadata": {},
     "output_type": "execute_result"
    }
   ],
   "source": [
    "video_analysis_df.groupby([\"Year\", \"Programme Language\"]).count()[\"Program name\"]"
   ]
  },
  {
   "cell_type": "code",
   "execution_count": 53,
   "metadata": {},
   "outputs": [],
   "source": [
    "gender_cats = [\"male\", \"female\"]\n",
    "age_cats = [\"[0, 18)\", \"[18, 33)\", \"[33, 60)\", \"[60, inf)\"]\n",
    "skintone_cats = [\"[-inf, 1.1)\", \"[1.1, 2.1)\", \"[2.1, 3.1)\", \"[3.1, 4.1)\", \"[4.1, 5.1)\", \"[5.1, 6.1)\", \"[6.1, 7.1)\",\n",
    "                 \"[7.1, 8.1)\", \"[8.1, 9.1)\", \"[9.1, 10.1)\"]\n",
    "n_faces_arr = np.zeros((len(video_analysis_df), len(gender_cats), len(age_cats), len(skintone_cats)), dtype=int)\n",
    "\n",
    "for index, row in video_analysis_df.iterrows():\n",
    "    for i, gender_cat in enumerate(gender_cats):\n",
    "        for j, age_cat in enumerate(age_cats):\n",
    "            for k, skintone_cat in enumerate(skintone_cats):\n",
    "                cat = f\"({gender_cat}, {age_cat}, {skintone_cat})\"\n",
    "                if cat in row and pd.notna(row[cat]):\n",
    "                    n_faces_arr[index, i, j, k] = row[cat]"
   ]
  },
  {
   "cell_type": "code",
   "execution_count": 56,
   "metadata": {},
   "outputs": [
    {
     "data": {
      "text/plain": [
       "array([ 4641, 12023])"
      ]
     },
     "execution_count": 56,
     "metadata": {},
     "output_type": "execute_result"
    }
   ],
   "source": [
    "n_faces_arr[0].sum(axis=(1,2))"
   ]
  },
  {
   "cell_type": "code",
   "execution_count": 63,
   "metadata": {},
   "outputs": [
    {
     "data": {
      "text/plain": [
       "[7130, 13146]"
      ]
     },
     "execution_count": 63,
     "metadata": {},
     "output_type": "execute_result"
    }
   ],
   "source": [
    "row[[\"masculine_faces\", \"feminine_faces\"]].tolist()"
   ]
  },
  {
   "cell_type": "code",
   "execution_count": 67,
   "metadata": {},
   "outputs": [],
   "source": [
    "for index, row in video_analysis_df.iterrows():\n",
    "    assert n_faces_arr[index].sum() == row[\"faces\"]\n",
    "    assert all(n_faces_arr[index].sum(axis=(1, 2)) == row[[\"masculine_faces\", \"feminine_faces\"]].tolist())\n",
    "    assert all(n_faces_arr[index].sum(axis=(0, 2)) == row[age_cats].tolist())\n",
    "    assert all(n_faces_arr[index].sum(axis=(0, 1)) == row[[f\"mst_scale_{i}\" for i in range(1, 11)]])"
   ]
  },
  {
   "cell_type": "code",
   "execution_count": 77,
   "metadata": {},
   "outputs": [],
   "source": [
    "metadata_df = video_analysis_df[[\"Year\", \"Program name\", \"Programme Language\"]].copy()\n",
    "metadata_df.columns = [\"year\", \"name\", \"lang\"]\n",
    "metadata_df[\"video-id\"] = np.arange(len(video_analysis_df))\n",
    "metadata_df = metadata_df[[\"video-id\", \"name\", \"year\", \"lang\"]]"
   ]
  },
  {
   "cell_type": "code",
   "execution_count": 78,
   "metadata": {},
   "outputs": [
    {
     "data": {
      "text/plain": [
       "[0, 'ADORINI', 2018, 'BENGALI']"
      ]
     },
     "execution_count": 78,
     "metadata": {},
     "output_type": "execute_result"
    }
   ],
   "source": [
    "metadata_df.iloc[0].tolist()"
   ]
  },
  {
   "cell_type": "code",
   "execution_count": 79,
   "metadata": {},
   "outputs": [],
   "source": [
    "gender_rows, age_rows, skintone_rows = [], [], []\n",
    "\n",
    "for index, row in metadata_df.iterrows():\n",
    "    total_faces = n_faces_arr[index].sum()\n",
    "\n",
    "    male_screentime = n_faces_arr[index, 0].sum()/total_faces\n",
    "    female_screentime = n_faces_arr[index, 1].sum()/total_faces\n",
    "\n",
    "    young_screentime = n_faces_arr[index, :, 0].sum()/total_faces\n",
    "    adult_screentime = n_faces_arr[index, :, 1].sum()/total_faces\n",
    "    middle_screentime = n_faces_arr[index, :, 2].sum()/total_faces\n",
    "    old_screentime = n_faces_arr[index, :, 3].sum()/total_faces\n",
    "\n",
    "    light_screentime = n_faces_arr[index, :, :, :3].sum()/total_faces\n",
    "    medium_screentime = n_faces_arr[index, :, :, 3:6].sum()/total_faces\n",
    "    dark_screentime = n_faces_arr[index, :, :, 6:].sum()/total_faces\n",
    "\n",
    "    gender_rows.append(row.tolist() + [\"male\", male_screentime])\n",
    "    gender_rows.append(row.tolist() + [\"female\", female_screentime])\n",
    "    age_rows.append(row.tolist() + [\"young\", young_screentime])\n",
    "    age_rows.append(row.tolist() + [\"adult\", adult_screentime])\n",
    "    age_rows.append(row.tolist() + [\"middle-aged\", middle_screentime])\n",
    "    age_rows.append(row.tolist() + [\"old\", old_screentime])\n",
    "    skintone_rows.append(row.tolist() + [\"light\", light_screentime])\n",
    "    skintone_rows.append(row.tolist() + [\"medium\", medium_screentime])\n",
    "    skintone_rows.append(row.tolist() + [\"dark\", dark_screentime])\n",
    "\n",
    "gender_df = pd.DataFrame(gender_rows, columns=metadata_df.columns.tolist() + [\"gender\", \"screentime\"])\n",
    "age_df = pd.DataFrame(age_rows, columns=metadata_df.columns.tolist() + [\"age\", \"screentime\"])\n",
    "skintone_df = pd.DataFrame(skintone_rows, columns=metadata_df.columns.tolist() + [\"skintone\", \"screentime\"])\n",
    "\n"
   ]
  },
  {
   "cell_type": "code",
   "execution_count": 80,
   "metadata": {},
   "outputs": [
    {
     "data": {
      "text/html": [
       "<div>\n",
       "<style scoped>\n",
       "    .dataframe tbody tr th:only-of-type {\n",
       "        vertical-align: middle;\n",
       "    }\n",
       "\n",
       "    .dataframe tbody tr th {\n",
       "        vertical-align: top;\n",
       "    }\n",
       "\n",
       "    .dataframe thead th {\n",
       "        text-align: right;\n",
       "    }\n",
       "</style>\n",
       "<table border=\"1\" class=\"dataframe\">\n",
       "  <thead>\n",
       "    <tr style=\"text-align: right;\">\n",
       "      <th></th>\n",
       "      <th>video-id</th>\n",
       "      <th>name</th>\n",
       "      <th>year</th>\n",
       "      <th>lang</th>\n",
       "      <th>gender</th>\n",
       "      <th>screentime</th>\n",
       "    </tr>\n",
       "  </thead>\n",
       "  <tbody>\n",
       "    <tr>\n",
       "      <th>0</th>\n",
       "      <td>0</td>\n",
       "      <td>ADORINI</td>\n",
       "      <td>2018</td>\n",
       "      <td>BENGALI</td>\n",
       "      <td>male</td>\n",
       "      <td>0.278505</td>\n",
       "    </tr>\n",
       "    <tr>\n",
       "      <th>1</th>\n",
       "      <td>0</td>\n",
       "      <td>ADORINI</td>\n",
       "      <td>2018</td>\n",
       "      <td>BENGALI</td>\n",
       "      <td>female</td>\n",
       "      <td>0.721495</td>\n",
       "    </tr>\n",
       "    <tr>\n",
       "      <th>2</th>\n",
       "      <td>1</td>\n",
       "      <td>ADORINI</td>\n",
       "      <td>2018</td>\n",
       "      <td>BENGALI</td>\n",
       "      <td>male</td>\n",
       "      <td>0.611043</td>\n",
       "    </tr>\n",
       "    <tr>\n",
       "      <th>3</th>\n",
       "      <td>1</td>\n",
       "      <td>ADORINI</td>\n",
       "      <td>2018</td>\n",
       "      <td>BENGALI</td>\n",
       "      <td>female</td>\n",
       "      <td>0.388957</td>\n",
       "    </tr>\n",
       "    <tr>\n",
       "      <th>4</th>\n",
       "      <td>2</td>\n",
       "      <td>ADORINI</td>\n",
       "      <td>2018</td>\n",
       "      <td>BENGALI</td>\n",
       "      <td>male</td>\n",
       "      <td>0.266013</td>\n",
       "    </tr>\n",
       "    <tr>\n",
       "      <th>...</th>\n",
       "      <td>...</td>\n",
       "      <td>...</td>\n",
       "      <td>...</td>\n",
       "      <td>...</td>\n",
       "      <td>...</td>\n",
       "      <td>...</td>\n",
       "    </tr>\n",
       "    <tr>\n",
       "      <th>2393</th>\n",
       "      <td>1196</td>\n",
       "      <td>NUMBER 1 KODALU</td>\n",
       "      <td>2022</td>\n",
       "      <td>TELUGU</td>\n",
       "      <td>female</td>\n",
       "      <td>0.430955</td>\n",
       "    </tr>\n",
       "    <tr>\n",
       "      <th>2394</th>\n",
       "      <td>1197</td>\n",
       "      <td>NUMBER 1 KODALU</td>\n",
       "      <td>2022</td>\n",
       "      <td>TELUGU</td>\n",
       "      <td>male</td>\n",
       "      <td>0.731627</td>\n",
       "    </tr>\n",
       "    <tr>\n",
       "      <th>2395</th>\n",
       "      <td>1197</td>\n",
       "      <td>NUMBER 1 KODALU</td>\n",
       "      <td>2022</td>\n",
       "      <td>TELUGU</td>\n",
       "      <td>female</td>\n",
       "      <td>0.268373</td>\n",
       "    </tr>\n",
       "    <tr>\n",
       "      <th>2396</th>\n",
       "      <td>1198</td>\n",
       "      <td>NUMBER 1 KODALU</td>\n",
       "      <td>2022</td>\n",
       "      <td>TELUGU</td>\n",
       "      <td>male</td>\n",
       "      <td>0.351647</td>\n",
       "    </tr>\n",
       "    <tr>\n",
       "      <th>2397</th>\n",
       "      <td>1198</td>\n",
       "      <td>NUMBER 1 KODALU</td>\n",
       "      <td>2022</td>\n",
       "      <td>TELUGU</td>\n",
       "      <td>female</td>\n",
       "      <td>0.648353</td>\n",
       "    </tr>\n",
       "  </tbody>\n",
       "</table>\n",
       "<p>2398 rows × 6 columns</p>\n",
       "</div>"
      ],
      "text/plain": [
       "      video-id             name  year     lang  gender  screentime\n",
       "0            0          ADORINI  2018  BENGALI    male    0.278505\n",
       "1            0          ADORINI  2018  BENGALI  female    0.721495\n",
       "2            1          ADORINI  2018  BENGALI    male    0.611043\n",
       "3            1          ADORINI  2018  BENGALI  female    0.388957\n",
       "4            2          ADORINI  2018  BENGALI    male    0.266013\n",
       "...        ...              ...   ...      ...     ...         ...\n",
       "2393      1196  NUMBER 1 KODALU  2022   TELUGU  female    0.430955\n",
       "2394      1197  NUMBER 1 KODALU  2022   TELUGU    male    0.731627\n",
       "2395      1197  NUMBER 1 KODALU  2022   TELUGU  female    0.268373\n",
       "2396      1198  NUMBER 1 KODALU  2022   TELUGU    male    0.351647\n",
       "2397      1198  NUMBER 1 KODALU  2022   TELUGU  female    0.648353\n",
       "\n",
       "[2398 rows x 6 columns]"
      ]
     },
     "execution_count": 80,
     "metadata": {},
     "output_type": "execute_result"
    }
   ],
   "source": [
    "gender_df"
   ]
  },
  {
   "cell_type": "code",
   "execution_count": 81,
   "metadata": {},
   "outputs": [
    {
     "data": {
      "text/html": [
       "<div>\n",
       "<style scoped>\n",
       "    .dataframe tbody tr th:only-of-type {\n",
       "        vertical-align: middle;\n",
       "    }\n",
       "\n",
       "    .dataframe tbody tr th {\n",
       "        vertical-align: top;\n",
       "    }\n",
       "\n",
       "    .dataframe thead th {\n",
       "        text-align: right;\n",
       "    }\n",
       "</style>\n",
       "<table border=\"1\" class=\"dataframe\">\n",
       "  <thead>\n",
       "    <tr style=\"text-align: right;\">\n",
       "      <th></th>\n",
       "      <th>video-id</th>\n",
       "      <th>name</th>\n",
       "      <th>year</th>\n",
       "      <th>lang</th>\n",
       "      <th>age</th>\n",
       "      <th>screentime</th>\n",
       "    </tr>\n",
       "  </thead>\n",
       "  <tbody>\n",
       "    <tr>\n",
       "      <th>0</th>\n",
       "      <td>0</td>\n",
       "      <td>ADORINI</td>\n",
       "      <td>2018</td>\n",
       "      <td>BENGALI</td>\n",
       "      <td>young</td>\n",
       "      <td>0.009482</td>\n",
       "    </tr>\n",
       "    <tr>\n",
       "      <th>1</th>\n",
       "      <td>0</td>\n",
       "      <td>ADORINI</td>\n",
       "      <td>2018</td>\n",
       "      <td>BENGALI</td>\n",
       "      <td>adult</td>\n",
       "      <td>0.881901</td>\n",
       "    </tr>\n",
       "    <tr>\n",
       "      <th>2</th>\n",
       "      <td>0</td>\n",
       "      <td>ADORINI</td>\n",
       "      <td>2018</td>\n",
       "      <td>BENGALI</td>\n",
       "      <td>middle-aged</td>\n",
       "      <td>0.108497</td>\n",
       "    </tr>\n",
       "    <tr>\n",
       "      <th>3</th>\n",
       "      <td>0</td>\n",
       "      <td>ADORINI</td>\n",
       "      <td>2018</td>\n",
       "      <td>BENGALI</td>\n",
       "      <td>old</td>\n",
       "      <td>0.000120</td>\n",
       "    </tr>\n",
       "    <tr>\n",
       "      <th>4</th>\n",
       "      <td>1</td>\n",
       "      <td>ADORINI</td>\n",
       "      <td>2018</td>\n",
       "      <td>BENGALI</td>\n",
       "      <td>young</td>\n",
       "      <td>0.006727</td>\n",
       "    </tr>\n",
       "    <tr>\n",
       "      <th>...</th>\n",
       "      <td>...</td>\n",
       "      <td>...</td>\n",
       "      <td>...</td>\n",
       "      <td>...</td>\n",
       "      <td>...</td>\n",
       "      <td>...</td>\n",
       "    </tr>\n",
       "    <tr>\n",
       "      <th>4791</th>\n",
       "      <td>1197</td>\n",
       "      <td>NUMBER 1 KODALU</td>\n",
       "      <td>2022</td>\n",
       "      <td>TELUGU</td>\n",
       "      <td>old</td>\n",
       "      <td>0.000000</td>\n",
       "    </tr>\n",
       "    <tr>\n",
       "      <th>4792</th>\n",
       "      <td>1198</td>\n",
       "      <td>NUMBER 1 KODALU</td>\n",
       "      <td>2022</td>\n",
       "      <td>TELUGU</td>\n",
       "      <td>young</td>\n",
       "      <td>0.032797</td>\n",
       "    </tr>\n",
       "    <tr>\n",
       "      <th>4793</th>\n",
       "      <td>1198</td>\n",
       "      <td>NUMBER 1 KODALU</td>\n",
       "      <td>2022</td>\n",
       "      <td>TELUGU</td>\n",
       "      <td>adult</td>\n",
       "      <td>0.847850</td>\n",
       "    </tr>\n",
       "    <tr>\n",
       "      <th>4794</th>\n",
       "      <td>1198</td>\n",
       "      <td>NUMBER 1 KODALU</td>\n",
       "      <td>2022</td>\n",
       "      <td>TELUGU</td>\n",
       "      <td>middle-aged</td>\n",
       "      <td>0.119353</td>\n",
       "    </tr>\n",
       "    <tr>\n",
       "      <th>4795</th>\n",
       "      <td>1198</td>\n",
       "      <td>NUMBER 1 KODALU</td>\n",
       "      <td>2022</td>\n",
       "      <td>TELUGU</td>\n",
       "      <td>old</td>\n",
       "      <td>0.000000</td>\n",
       "    </tr>\n",
       "  </tbody>\n",
       "</table>\n",
       "<p>4796 rows × 6 columns</p>\n",
       "</div>"
      ],
      "text/plain": [
       "      video-id             name  year     lang          age  screentime\n",
       "0            0          ADORINI  2018  BENGALI        young    0.009482\n",
       "1            0          ADORINI  2018  BENGALI        adult    0.881901\n",
       "2            0          ADORINI  2018  BENGALI  middle-aged    0.108497\n",
       "3            0          ADORINI  2018  BENGALI          old    0.000120\n",
       "4            1          ADORINI  2018  BENGALI        young    0.006727\n",
       "...        ...              ...   ...      ...          ...         ...\n",
       "4791      1197  NUMBER 1 KODALU  2022   TELUGU          old    0.000000\n",
       "4792      1198  NUMBER 1 KODALU  2022   TELUGU        young    0.032797\n",
       "4793      1198  NUMBER 1 KODALU  2022   TELUGU        adult    0.847850\n",
       "4794      1198  NUMBER 1 KODALU  2022   TELUGU  middle-aged    0.119353\n",
       "4795      1198  NUMBER 1 KODALU  2022   TELUGU          old    0.000000\n",
       "\n",
       "[4796 rows x 6 columns]"
      ]
     },
     "execution_count": 81,
     "metadata": {},
     "output_type": "execute_result"
    }
   ],
   "source": [
    "age_df"
   ]
  },
  {
   "cell_type": "code",
   "execution_count": 82,
   "metadata": {},
   "outputs": [
    {
     "data": {
      "text/html": [
       "<div>\n",
       "<style scoped>\n",
       "    .dataframe tbody tr th:only-of-type {\n",
       "        vertical-align: middle;\n",
       "    }\n",
       "\n",
       "    .dataframe tbody tr th {\n",
       "        vertical-align: top;\n",
       "    }\n",
       "\n",
       "    .dataframe thead th {\n",
       "        text-align: right;\n",
       "    }\n",
       "</style>\n",
       "<table border=\"1\" class=\"dataframe\">\n",
       "  <thead>\n",
       "    <tr style=\"text-align: right;\">\n",
       "      <th></th>\n",
       "      <th>video-id</th>\n",
       "      <th>name</th>\n",
       "      <th>year</th>\n",
       "      <th>lang</th>\n",
       "      <th>skintone</th>\n",
       "      <th>screentime</th>\n",
       "    </tr>\n",
       "  </thead>\n",
       "  <tbody>\n",
       "    <tr>\n",
       "      <th>0</th>\n",
       "      <td>0</td>\n",
       "      <td>ADORINI</td>\n",
       "      <td>2018</td>\n",
       "      <td>BENGALI</td>\n",
       "      <td>light</td>\n",
       "      <td>0.623800</td>\n",
       "    </tr>\n",
       "    <tr>\n",
       "      <th>1</th>\n",
       "      <td>0</td>\n",
       "      <td>ADORINI</td>\n",
       "      <td>2018</td>\n",
       "      <td>BENGALI</td>\n",
       "      <td>medium</td>\n",
       "      <td>0.362638</td>\n",
       "    </tr>\n",
       "    <tr>\n",
       "      <th>2</th>\n",
       "      <td>0</td>\n",
       "      <td>ADORINI</td>\n",
       "      <td>2018</td>\n",
       "      <td>BENGALI</td>\n",
       "      <td>dark</td>\n",
       "      <td>0.013562</td>\n",
       "    </tr>\n",
       "    <tr>\n",
       "      <th>3</th>\n",
       "      <td>1</td>\n",
       "      <td>ADORINI</td>\n",
       "      <td>2018</td>\n",
       "      <td>BENGALI</td>\n",
       "      <td>light</td>\n",
       "      <td>0.907376</td>\n",
       "    </tr>\n",
       "    <tr>\n",
       "      <th>4</th>\n",
       "      <td>1</td>\n",
       "      <td>ADORINI</td>\n",
       "      <td>2018</td>\n",
       "      <td>BENGALI</td>\n",
       "      <td>medium</td>\n",
       "      <td>0.091804</td>\n",
       "    </tr>\n",
       "    <tr>\n",
       "      <th>...</th>\n",
       "      <td>...</td>\n",
       "      <td>...</td>\n",
       "      <td>...</td>\n",
       "      <td>...</td>\n",
       "      <td>...</td>\n",
       "      <td>...</td>\n",
       "    </tr>\n",
       "    <tr>\n",
       "      <th>3592</th>\n",
       "      <td>1197</td>\n",
       "      <td>NUMBER 1 KODALU</td>\n",
       "      <td>2022</td>\n",
       "      <td>TELUGU</td>\n",
       "      <td>medium</td>\n",
       "      <td>0.197996</td>\n",
       "    </tr>\n",
       "    <tr>\n",
       "      <th>3593</th>\n",
       "      <td>1197</td>\n",
       "      <td>NUMBER 1 KODALU</td>\n",
       "      <td>2022</td>\n",
       "      <td>TELUGU</td>\n",
       "      <td>dark</td>\n",
       "      <td>0.032999</td>\n",
       "    </tr>\n",
       "    <tr>\n",
       "      <th>3594</th>\n",
       "      <td>1198</td>\n",
       "      <td>NUMBER 1 KODALU</td>\n",
       "      <td>2022</td>\n",
       "      <td>TELUGU</td>\n",
       "      <td>light</td>\n",
       "      <td>0.853719</td>\n",
       "    </tr>\n",
       "    <tr>\n",
       "      <th>3595</th>\n",
       "      <td>1198</td>\n",
       "      <td>NUMBER 1 KODALU</td>\n",
       "      <td>2022</td>\n",
       "      <td>TELUGU</td>\n",
       "      <td>medium</td>\n",
       "      <td>0.143815</td>\n",
       "    </tr>\n",
       "    <tr>\n",
       "      <th>3596</th>\n",
       "      <td>1198</td>\n",
       "      <td>NUMBER 1 KODALU</td>\n",
       "      <td>2022</td>\n",
       "      <td>TELUGU</td>\n",
       "      <td>dark</td>\n",
       "      <td>0.002466</td>\n",
       "    </tr>\n",
       "  </tbody>\n",
       "</table>\n",
       "<p>3597 rows × 6 columns</p>\n",
       "</div>"
      ],
      "text/plain": [
       "      video-id             name  year     lang skintone  screentime\n",
       "0            0          ADORINI  2018  BENGALI    light    0.623800\n",
       "1            0          ADORINI  2018  BENGALI   medium    0.362638\n",
       "2            0          ADORINI  2018  BENGALI     dark    0.013562\n",
       "3            1          ADORINI  2018  BENGALI    light    0.907376\n",
       "4            1          ADORINI  2018  BENGALI   medium    0.091804\n",
       "...        ...              ...   ...      ...      ...         ...\n",
       "3592      1197  NUMBER 1 KODALU  2022   TELUGU   medium    0.197996\n",
       "3593      1197  NUMBER 1 KODALU  2022   TELUGU     dark    0.032999\n",
       "3594      1198  NUMBER 1 KODALU  2022   TELUGU    light    0.853719\n",
       "3595      1198  NUMBER 1 KODALU  2022   TELUGU   medium    0.143815\n",
       "3596      1198  NUMBER 1 KODALU  2022   TELUGU     dark    0.002466\n",
       "\n",
       "[3597 rows x 6 columns]"
      ]
     },
     "execution_count": 82,
     "metadata": {},
     "output_type": "execute_result"
    }
   ],
   "source": [
    "skintone_df"
   ]
  },
  {
   "cell_type": "code",
   "execution_count": 83,
   "metadata": {},
   "outputs": [],
   "source": [
    "gender_df.to_csv(\"gender.csv\", index=False)\n",
    "age_df.to_csv(\"age.csv\", index=False)\n",
    "skintone_df.to_csv(\"skintone.csv\", index=False)"
   ]
  },
  {
   "cell_type": "code",
   "execution_count": null,
   "metadata": {},
   "outputs": [],
   "source": []
  }
 ],
 "metadata": {
  "kernelspec": {
   "display_name": "coreference",
   "language": "python",
   "name": "python3"
  },
  "language_info": {
   "codemirror_mode": {
    "name": "ipython",
    "version": 3
   },
   "file_extension": ".py",
   "mimetype": "text/x-python",
   "name": "python",
   "nbconvert_exporter": "python",
   "pygments_lexer": "ipython3",
   "version": "3.10.4"
  },
  "orig_nbformat": 4
 },
 "nbformat": 4,
 "nbformat_minor": 2
}
