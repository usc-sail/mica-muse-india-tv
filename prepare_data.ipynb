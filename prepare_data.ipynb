{
 "cells": [
  {
   "cell_type": "code",
   "execution_count": 1,
   "metadata": {},
   "outputs": [],
   "source": [
    "import math\n",
    "import collections\n",
    "import pandas as pd\n",
    "import numpy as np\n",
    "import matplotlib.pyplot as plt\n",
    "\n",
    "plt.rcParams.update({\"font.size\": 18,\n",
    "                     \"font.family\": \"sans-serif\",\n",
    "                     \"figure.figsize\": (20, 8),\n",
    "                     \"axes.facecolor\": \"ffffff\",\n",
    "                     \"figure.dpi\"       : 200,\n",
    "                     \"legend.fontsize\"  : \"large\",\n",
    "                     \"figure.titlesize\" : \"medium\",\n",
    "                     \"lines.linewidth\": 3,\n",
    "})"
   ]
  },
  {
   "cell_type": "code",
   "execution_count": 2,
   "metadata": {},
   "outputs": [],
   "source": [
    "# set filenames\n",
    "video_analysis_file = \"data/[MUSE India] [RP Outputs] - Muse_India_Study_yt_local.csv.csv\"\n",
    "languages = [\"Bengali\", \"Hindi\", \"Kannada\", \"Tamil\", \"Telugu\"]\n",
    "language_analyis_files = [\n",
    "    \"data/[MUSE India] [Final] Language Analysis Results - bn.csv\",\n",
    "    \"data/[MUSE India] [Final] Language Analysis Results - hi.csv\",\n",
    "    \"data/[MUSE India] [Final] Language Analysis Results - kn.csv\",\n",
    "    \"data/[MUSE India] [Final] Language Analysis Results - ta.csv\",\n",
    "    \"data/[MUSE India] [Final] Language Analysis Results - te.csv\"\n",
    "    ]"
   ]
  },
  {
   "cell_type": "code",
   "execution_count": 3,
   "metadata": {},
   "outputs": [],
   "source": [
    "# read the video analysis and language analysis dataframes\n",
    "video_analysis_df = pd.read_csv(video_analysis_file, index_col=None)\n",
    "language_analyis_dfs = [pd.read_csv(language_analyis_file, index_col=None) \n",
    "                        for language_analyis_file in language_analyis_files]\n",
    "language_analyis_df = pd.concat(language_analyis_dfs)"
   ]
  },
  {
   "cell_type": "code",
   "execution_count": 4,
   "metadata": {},
   "outputs": [
    {
     "name": "stdout",
     "output_type": "stream",
     "text": [
      "Year\n",
      "Rank\n",
      "Program name\n",
      "Channel\n",
      "Program Theme\n",
      "Program Genre\n",
      "Programme Language\n",
      "# of episodes\n",
      "rat%/AP\n",
      "Daily Avg Rch%\n",
      "Daily Avg Rch'000\n",
      "Ats(viewer)\n",
      "Program duration\n",
      "Cat No.\n",
      "YouTu.be link\n",
      "video_key\n",
      "Notes\n",
      "frames_analyzed\n",
      "(female, [0, 18), [-inf, 1.1))\n",
      "(female, [0, 18), [1.1, 2.1))\n",
      "(female, [0, 18), [2.1, 3.1))\n",
      "(female, [0, 18), [3.1, 4.1))\n",
      "(female, [0, 18), [4.1, 5.1))\n",
      "(female, [0, 18), [5.1, 6.1))\n",
      "(female, [0, 18), [6.1, 7.1))\n",
      "(female, [0, 18), [7.1, 8.1))\n",
      "(female, [0, 18), [8.1, 9.1))\n",
      "(female, [18, 33), [-inf, 1.1))\n",
      "(female, [18, 33), [1.1, 2.1))\n",
      "(female, [18, 33), [2.1, 3.1))\n",
      "(female, [18, 33), [3.1, 4.1))\n",
      "(female, [18, 33), [4.1, 5.1))\n",
      "(female, [18, 33), [5.1, 6.1))\n",
      "(female, [18, 33), [6.1, 7.1))\n",
      "(female, [18, 33), [7.1, 8.1))\n",
      "(female, [18, 33), [8.1, 9.1))\n",
      "(female, [18, 33), [9.1, 10.1))\n",
      "(female, [33, 60), [-inf, 1.1))\n",
      "(female, [33, 60), [1.1, 2.1))\n",
      "(female, [33, 60), [2.1, 3.1))\n",
      "(female, [33, 60), [3.1, 4.1))\n",
      "(female, [33, 60), [4.1, 5.1))\n",
      "(female, [33, 60), [5.1, 6.1))\n",
      "(female, [33, 60), [6.1, 7.1))\n",
      "(female, [33, 60), [7.1, 8.1))\n",
      "(female, [33, 60), [8.1, 9.1))\n",
      "(female, [33, 60), [9.1, 10.1))\n",
      "(female, [60, inf), [-inf, 1.1))\n",
      "(female, [60, inf), [1.1, 2.1))\n",
      "(female, [60, inf), [2.1, 3.1))\n",
      "(female, [60, inf), [3.1, 4.1))\n",
      "(female, [60, inf), [4.1, 5.1))\n",
      "(female, [60, inf), [5.1, 6.1))\n",
      "(female, [60, inf), [6.1, 7.1))\n",
      "(female, [60, inf), [7.1, 8.1))\n",
      "(female, [60, inf), [9.1, 10.1))\n",
      "(male, [0, 18), [-inf, 1.1))\n",
      "(male, [0, 18), [1.1, 2.1))\n",
      "(male, [0, 18), [2.1, 3.1))\n",
      "(male, [0, 18), [3.1, 4.1))\n",
      "(male, [0, 18), [4.1, 5.1))\n",
      "(male, [0, 18), [5.1, 6.1))\n",
      "(male, [0, 18), [6.1, 7.1))\n",
      "(male, [0, 18), [7.1, 8.1))\n",
      "(male, [0, 18), [8.1, 9.1))\n",
      "(male, [18, 33), [-inf, 1.1))\n",
      "(male, [18, 33), [1.1, 2.1))\n",
      "(male, [18, 33), [2.1, 3.1))\n",
      "(male, [18, 33), [3.1, 4.1))\n",
      "(male, [18, 33), [4.1, 5.1))\n",
      "(male, [18, 33), [5.1, 6.1))\n",
      "(male, [18, 33), [6.1, 7.1))\n",
      "(male, [18, 33), [7.1, 8.1))\n",
      "(male, [18, 33), [8.1, 9.1))\n",
      "(male, [18, 33), [9.1, 10.1))\n",
      "(male, [33, 60), [-inf, 1.1))\n",
      "(male, [33, 60), [1.1, 2.1))\n",
      "(male, [33, 60), [2.1, 3.1))\n",
      "(male, [33, 60), [3.1, 4.1))\n",
      "(male, [33, 60), [4.1, 5.1))\n",
      "(male, [33, 60), [5.1, 6.1))\n",
      "(male, [33, 60), [6.1, 7.1))\n",
      "(male, [33, 60), [7.1, 8.1))\n",
      "(male, [33, 60), [8.1, 9.1))\n",
      "(male, [33, 60), [9.1, 10.1))\n",
      "(male, [60, inf), [-inf, 1.1))\n",
      "(male, [60, inf), [1.1, 2.1))\n",
      "(male, [60, inf), [2.1, 3.1))\n",
      "(male, [60, inf), [3.1, 4.1))\n",
      "(male, [60, inf), [4.1, 5.1))\n",
      "(male, [60, inf), [5.1, 6.1))\n",
      "(male, [60, inf), [6.1, 7.1))\n",
      "(male, [60, inf), [7.1, 8.1))\n",
      "(male, [60, inf), [8.1, 9.1))\n",
      "(male, [60, inf), [9.1, 10.1))\n",
      "faces\n",
      "mst_scale_1\n",
      "mst_scale_2\n",
      "mst_scale_3\n",
      "mst_scale_4\n",
      "mst_scale_5\n",
      "mst_scale_6\n",
      "mst_scale_7\n",
      "mst_scale_8\n",
      "mst_scale_9\n",
      "mst_scale_10\n",
      "[0, 18)\n",
      "[18, 33)\n",
      "[33, 60)\n",
      "[60, inf)\n",
      "masculine_faces\n",
      "feminine_faces\n",
      "age_1_screen_time\n",
      "age_2_screen_time\n",
      "age_3_screen_time\n",
      "age_4_screen_time\n",
      "(female, [60, inf), [8.1, 9.1))\n",
      "(male, [0, 18), [9.1, 10.1))\n",
      "(female, [0, 18), [9.1, 10.1))\n"
     ]
    }
   ],
   "source": [
    "# print column names of the video analysis data\n",
    "for col in video_analysis_df.columns:\n",
    "    print(col)"
   ]
  },
  {
   "cell_type": "code",
   "execution_count": 5,
   "metadata": {},
   "outputs": [
    {
     "data": {
      "text/plain": [
       "Counter({2018: 225, 2019: 231, 2020: 250, 2021: 228, 2022: 265})"
      ]
     },
     "execution_count": 5,
     "metadata": {},
     "output_type": "execute_result"
    }
   ],
   "source": [
    "# print years\n",
    "collections.Counter(video_analysis_df[\"Year\"])"
   ]
  },
  {
   "cell_type": "code",
   "execution_count": 6,
   "metadata": {},
   "outputs": [
    {
     "data": {
      "text/plain": [
       "152"
      ]
     },
     "execution_count": 6,
     "metadata": {},
     "output_type": "execute_result"
    }
   ],
   "source": [
    "# print number of unique program names\n",
    "video_analysis_df[\"Program name\"].unique().size"
   ]
  },
  {
   "cell_type": "code",
   "execution_count": 7,
   "metadata": {},
   "outputs": [
    {
     "data": {
      "text/plain": [
       "Program name\n",
       "AALTA PHORING                         [2022]\n",
       "ABHIYUM NANUM             [2020, 2021, 2022]\n",
       "ADORINI                               [2018]\n",
       "AGNISAKSHI                            [2018]\n",
       "ALO CHHAYA                            [2019]\n",
       "                                 ...        \n",
       "VISHNU PURAN                          [2020]\n",
       "YAARE NEE MOHINI          [2018, 2019, 2020]\n",
       "YAMALEELA                             [2020]\n",
       "YEH HAI CHAHATEIN                     [2022]\n",
       "ZINDAGI MERE GHAR AANA                [2022]\n",
       "Name: Year, Length: 152, dtype: object"
      ]
     },
     "execution_count": 7,
     "metadata": {},
     "output_type": "execute_result"
    }
   ],
   "source": [
    "# check relation between program name and year\n",
    "video_analysis_df[[\"Program name\", \"Year\"]].groupby(\"Program name\")[\"Year\"].unique()"
   ]
  },
  {
   "cell_type": "code",
   "execution_count": 8,
   "metadata": {},
   "outputs": [
    {
     "data": {
      "text/plain": [
       "25"
      ]
     },
     "execution_count": 8,
     "metadata": {},
     "output_type": "execute_result"
    }
   ],
   "source": [
    "# print number of unique channels\n",
    "video_analysis_df[\"Channel\"].unique().size"
   ]
  },
  {
   "cell_type": "code",
   "execution_count": 9,
   "metadata": {},
   "outputs": [
    {
     "data": {
      "text/plain": [
       "['Big Magic',\n",
       " 'Colors',\n",
       " 'Colors Kannada',\n",
       " 'Colors Rishtey',\n",
       " 'DD Bharati',\n",
       " 'DD National',\n",
       " 'Dangal',\n",
       " 'Dangal/DD National',\n",
       " 'ETV Telugu',\n",
       " 'STAR Jalsha',\n",
       " 'STAR Maa',\n",
       " 'STAR Plus',\n",
       " 'STAR Utsav',\n",
       " 'STAR Vijay',\n",
       " 'Shemaroo TV',\n",
       " 'Sony Pal',\n",
       " 'Sun TV',\n",
       " 'Udaya TV',\n",
       " 'Zee Anmol',\n",
       " 'Zee Bangla',\n",
       " 'Zee Kannada',\n",
       " 'Zee TV',\n",
       " 'Zee TV/Zee Anmol',\n",
       " 'Zee Tamil',\n",
       " 'Zee Telugu']"
      ]
     },
     "execution_count": 9,
     "metadata": {},
     "output_type": "execute_result"
    }
   ],
   "source": [
    "# print the unique channels\n",
    "sorted(video_analysis_df[\"Channel\"].unique())"
   ]
  },
  {
   "cell_type": "code",
   "execution_count": 9,
   "metadata": {},
   "outputs": [
    {
     "data": {
      "text/plain": [
       "Program name\n",
       "RAMAYAN      [Dangal, Dangal/DD National]\n",
       "TRINAYANI        [Zee Bangla, Zee Telugu]\n",
       "Name: Channel, dtype: object"
      ]
     },
     "execution_count": 9,
     "metadata": {},
     "output_type": "execute_result"
    }
   ],
   "source": [
    "# print program names broadcast in more than one channel\n",
    "df = video_analysis_df[[\"Program name\", \"Channel\"]].groupby(\"Program name\")[\"Channel\"].unique()\n",
    "df[df.apply(len) > 1]"
   ]
  },
  {
   "cell_type": "code",
   "execution_count": 14,
   "metadata": {},
   "outputs": [
    {
     "data": {
      "text/plain": [
       "Counter({'DRAMA/SOAP': 1115,\n",
       "         'ACTION/THRILLER': 10,\n",
       "         'MYTHOLOGICAL/COSTUME DRAMAS': 69,\n",
       "         'CHILDRENS PROGRAM': 5})"
      ]
     },
     "execution_count": 14,
     "metadata": {},
     "output_type": "execute_result"
    }
   ],
   "source": [
    "# print distribution of program themes\n",
    "collections.Counter(video_analysis_df[\"Program Theme\"])"
   ]
  },
  {
   "cell_type": "code",
   "execution_count": 15,
   "metadata": {},
   "outputs": [
    {
     "data": {
      "text/plain": [
       "array([1])"
      ]
     },
     "execution_count": 15,
     "metadata": {},
     "output_type": "execute_result"
    }
   ],
   "source": [
    "# check correspondence between program name and program theme\n",
    "video_analysis_df[[\"Program name\", \"Program Theme\"]].groupby(\"Program name\")[\"Program Theme\"].unique().apply(len).unique()"
   ]
  },
  {
   "cell_type": "code",
   "execution_count": 16,
   "metadata": {},
   "outputs": [
    {
     "data": {
      "text/plain": [
       "Program name\n",
       "TRINAYANI    [BENGALI, TELUGU]\n",
       "Name: Programme Language, dtype: object"
      ]
     },
     "execution_count": 16,
     "metadata": {},
     "output_type": "execute_result"
    }
   ],
   "source": [
    "# print program names broadcast in more than one language\n",
    "df = video_analysis_df[[\"Program name\", \"Programme Language\"]].groupby(\"Program name\")[\"Programme Language\"].unique()\n",
    "df[df.apply(len) > 1]"
   ]
  },
  {
   "cell_type": "code",
   "execution_count": 17,
   "metadata": {},
   "outputs": [
    {
     "data": {
      "text/plain": [
       "Year  Programme Language\n",
       "2018  BENGALI               35\n",
       "      HINDI                 47\n",
       "      KANNADA               49\n",
       "      TAMIL                 45\n",
       "      TELUGU                49\n",
       "2019  BENGALI               36\n",
       "      HINDI                 50\n",
       "      KANNADA               45\n",
       "      TAMIL                 50\n",
       "      TELUGU                50\n",
       "2020  BENGALI               41\n",
       "      HINDI                 65\n",
       "      KANNADA               50\n",
       "      TAMIL                 45\n",
       "      TELUGU                49\n",
       "2021  BENGALI               49\n",
       "      HINDI                 50\n",
       "      KANNADA               49\n",
       "      TAMIL                 50\n",
       "      TELUGU                30\n",
       "2022  BENGALI               69\n",
       "      HINDI                 56\n",
       "      KANNADA               39\n",
       "      TAMIL                 50\n",
       "      TELUGU                51\n",
       "Name: Program name, dtype: int64"
      ]
     },
     "execution_count": 17,
     "metadata": {},
     "output_type": "execute_result"
    }
   ],
   "source": [
    "# print number of videos per year per language\n",
    "video_analysis_df.groupby([\"Year\", \"Programme Language\"]).count()[\"Program name\"]"
   ]
  },
  {
   "cell_type": "code",
   "execution_count": 10,
   "metadata": {},
   "outputs": [],
   "source": [
    "# create faces data\n",
    "# n_faces_arr[i, j, k, l] = number of faces of gender j and age k and skintone l in video i\n",
    "gender_cats = [\"male\", \"female\"]\n",
    "age_cats = [\"[0, 18)\", \"[18, 33)\", \"[33, 60)\", \"[60, inf)\"]\n",
    "skintone_cats = [\"[-inf, 1.1)\", \"[1.1, 2.1)\", \"[2.1, 3.1)\", \"[3.1, 4.1)\", \"[4.1, 5.1)\", \"[5.1, 6.1)\", \"[6.1, 7.1)\",\n",
    "                 \"[7.1, 8.1)\", \"[8.1, 9.1)\", \"[9.1, 10.1)\"]\n",
    "n_faces_arr = np.zeros((len(video_analysis_df), len(gender_cats), len(age_cats), len(skintone_cats)), dtype=int)\n",
    "\n",
    "for index, row in video_analysis_df.iterrows():\n",
    "    for i, gender_cat in enumerate(gender_cats):\n",
    "        for j, age_cat in enumerate(age_cats):\n",
    "            for k, skintone_cat in enumerate(skintone_cats):\n",
    "                cat = f\"({gender_cat}, {age_cat}, {skintone_cat})\"\n",
    "                if cat in row and pd.notna(row[cat]):\n",
    "                    n_faces_arr[index, i, j, k] = row[cat]"
   ]
  },
  {
   "cell_type": "code",
   "execution_count": 19,
   "metadata": {},
   "outputs": [],
   "source": [
    "# check if the number of faces for gender, age, and skintone is consistent\n",
    "for index, row in video_analysis_df.iterrows():\n",
    "    assert n_faces_arr[index].sum() == row[\"faces\"]\n",
    "    assert all(n_faces_arr[index].sum(axis=(1, 2)) == row[[\"masculine_faces\", \"feminine_faces\"]].tolist())\n",
    "    assert all(n_faces_arr[index].sum(axis=(0, 2)) == row[age_cats].tolist())\n",
    "    assert all(n_faces_arr[index].sum(axis=(0, 1)) == row[[f\"mst_scale_{i}\" for i in range(1, 11)]])"
   ]
  },
  {
   "cell_type": "code",
   "execution_count": 12,
   "metadata": {},
   "outputs": [],
   "source": [
    "# create metadata df of video key, year, program name, and language\n",
    "metadata_df = video_analysis_df[[\"Year\", \"Program name\", \"Programme Language\", \"Program Theme\"]].copy()\n",
    "metadata_df.columns = [\"year\", \"program\", \"lang\", \"genre\"]\n",
    "metadata_df[\"video_key\"] = np.arange(len(video_analysis_df))\n",
    "metadata_df = metadata_df[[\"video_key\", \"program\", \"year\", \"lang\", \"genre\"]]"
   ]
  },
  {
   "cell_type": "code",
   "execution_count": 13,
   "metadata": {},
   "outputs": [],
   "source": [
    "# create metadata and video analysis dataframe\n",
    "# columns are video_key, program name, year, lang, gender, age, skintone, number of faces\n",
    "# each video_key will have 2 x 4 x 3 rows = 24 rows\n",
    "data_rows = []\n",
    "named_age_cats = [\"young\", \"adult\", \"middle_aged\", \"old\"]\n",
    "named_skintone_cats = [\"light\", \"medium\", \"dark\"]\n",
    "\n",
    "for index, row in metadata_df.iterrows():\n",
    "    total_faces = n_faces_arr[index].sum()\n",
    "\n",
    "    for i, gender_cat in enumerate(gender_cats):\n",
    "        for j, age_cat in enumerate(named_age_cats):\n",
    "            for skintone_cat in named_skintone_cats:\n",
    "                if skintone_cat == \"light\":\n",
    "                    k1, k2 = 0, 3\n",
    "                elif skintone_cat == \"medium\":\n",
    "                    k1, k2 = 3, 6\n",
    "                else:\n",
    "                    k1, k2 = 6, 10\n",
    "                faces = n_faces_arr[index, i, j, k1 : k2].sum()\n",
    "                data_rows.append(row.tolist() + [gender_cat, age_cat, skintone_cat, faces])\n",
    "\n",
    "\n",
    "data_df = pd.DataFrame(data_rows, columns=metadata_df.columns.tolist() + [\"gender\", \"age\", \"skintone\", \"faces\"])\n",
    "data_df.to_csv(\"data_long_form.csv\", index=False)"
   ]
  },
  {
   "cell_type": "code",
   "execution_count": 14,
   "metadata": {},
   "outputs": [
    {
     "data": {
      "text/html": [
       "<div>\n",
       "<style scoped>\n",
       "    .dataframe tbody tr th:only-of-type {\n",
       "        vertical-align: middle;\n",
       "    }\n",
       "\n",
       "    .dataframe tbody tr th {\n",
       "        vertical-align: top;\n",
       "    }\n",
       "\n",
       "    .dataframe thead th {\n",
       "        text-align: right;\n",
       "    }\n",
       "</style>\n",
       "<table border=\"1\" class=\"dataframe\">\n",
       "  <thead>\n",
       "    <tr style=\"text-align: right;\">\n",
       "      <th></th>\n",
       "      <th>video_key</th>\n",
       "      <th>program</th>\n",
       "      <th>year</th>\n",
       "      <th>lang</th>\n",
       "      <th>genre</th>\n",
       "      <th>gender</th>\n",
       "      <th>age</th>\n",
       "      <th>skintone</th>\n",
       "      <th>faces</th>\n",
       "    </tr>\n",
       "  </thead>\n",
       "  <tbody>\n",
       "    <tr>\n",
       "      <th>0</th>\n",
       "      <td>0</td>\n",
       "      <td>ADORINI</td>\n",
       "      <td>2018</td>\n",
       "      <td>BENGALI</td>\n",
       "      <td>DRAMA/SOAP</td>\n",
       "      <td>male</td>\n",
       "      <td>young</td>\n",
       "      <td>light</td>\n",
       "      <td>3</td>\n",
       "    </tr>\n",
       "    <tr>\n",
       "      <th>1</th>\n",
       "      <td>0</td>\n",
       "      <td>ADORINI</td>\n",
       "      <td>2018</td>\n",
       "      <td>BENGALI</td>\n",
       "      <td>DRAMA/SOAP</td>\n",
       "      <td>male</td>\n",
       "      <td>young</td>\n",
       "      <td>medium</td>\n",
       "      <td>0</td>\n",
       "    </tr>\n",
       "    <tr>\n",
       "      <th>2</th>\n",
       "      <td>0</td>\n",
       "      <td>ADORINI</td>\n",
       "      <td>2018</td>\n",
       "      <td>BENGALI</td>\n",
       "      <td>DRAMA/SOAP</td>\n",
       "      <td>male</td>\n",
       "      <td>young</td>\n",
       "      <td>dark</td>\n",
       "      <td>1</td>\n",
       "    </tr>\n",
       "    <tr>\n",
       "      <th>3</th>\n",
       "      <td>0</td>\n",
       "      <td>ADORINI</td>\n",
       "      <td>2018</td>\n",
       "      <td>BENGALI</td>\n",
       "      <td>DRAMA/SOAP</td>\n",
       "      <td>male</td>\n",
       "      <td>adult</td>\n",
       "      <td>light</td>\n",
       "      <td>2211</td>\n",
       "    </tr>\n",
       "    <tr>\n",
       "      <th>4</th>\n",
       "      <td>0</td>\n",
       "      <td>ADORINI</td>\n",
       "      <td>2018</td>\n",
       "      <td>BENGALI</td>\n",
       "      <td>DRAMA/SOAP</td>\n",
       "      <td>male</td>\n",
       "      <td>adult</td>\n",
       "      <td>medium</td>\n",
       "      <td>1390</td>\n",
       "    </tr>\n",
       "    <tr>\n",
       "      <th>...</th>\n",
       "      <td>...</td>\n",
       "      <td>...</td>\n",
       "      <td>...</td>\n",
       "      <td>...</td>\n",
       "      <td>...</td>\n",
       "      <td>...</td>\n",
       "      <td>...</td>\n",
       "      <td>...</td>\n",
       "      <td>...</td>\n",
       "    </tr>\n",
       "    <tr>\n",
       "      <th>28771</th>\n",
       "      <td>1198</td>\n",
       "      <td>NUMBER 1 KODALU</td>\n",
       "      <td>2022</td>\n",
       "      <td>TELUGU</td>\n",
       "      <td>DRAMA/SOAP</td>\n",
       "      <td>female</td>\n",
       "      <td>middle_aged</td>\n",
       "      <td>medium</td>\n",
       "      <td>0</td>\n",
       "    </tr>\n",
       "    <tr>\n",
       "      <th>28772</th>\n",
       "      <td>1198</td>\n",
       "      <td>NUMBER 1 KODALU</td>\n",
       "      <td>2022</td>\n",
       "      <td>TELUGU</td>\n",
       "      <td>DRAMA/SOAP</td>\n",
       "      <td>female</td>\n",
       "      <td>middle_aged</td>\n",
       "      <td>dark</td>\n",
       "      <td>0</td>\n",
       "    </tr>\n",
       "    <tr>\n",
       "      <th>28773</th>\n",
       "      <td>1198</td>\n",
       "      <td>NUMBER 1 KODALU</td>\n",
       "      <td>2022</td>\n",
       "      <td>TELUGU</td>\n",
       "      <td>DRAMA/SOAP</td>\n",
       "      <td>female</td>\n",
       "      <td>old</td>\n",
       "      <td>light</td>\n",
       "      <td>0</td>\n",
       "    </tr>\n",
       "    <tr>\n",
       "      <th>28774</th>\n",
       "      <td>1198</td>\n",
       "      <td>NUMBER 1 KODALU</td>\n",
       "      <td>2022</td>\n",
       "      <td>TELUGU</td>\n",
       "      <td>DRAMA/SOAP</td>\n",
       "      <td>female</td>\n",
       "      <td>old</td>\n",
       "      <td>medium</td>\n",
       "      <td>0</td>\n",
       "    </tr>\n",
       "    <tr>\n",
       "      <th>28775</th>\n",
       "      <td>1198</td>\n",
       "      <td>NUMBER 1 KODALU</td>\n",
       "      <td>2022</td>\n",
       "      <td>TELUGU</td>\n",
       "      <td>DRAMA/SOAP</td>\n",
       "      <td>female</td>\n",
       "      <td>old</td>\n",
       "      <td>dark</td>\n",
       "      <td>0</td>\n",
       "    </tr>\n",
       "  </tbody>\n",
       "</table>\n",
       "<p>28776 rows × 9 columns</p>\n",
       "</div>"
      ],
      "text/plain": [
       "       video_key          program  year     lang       genre  gender  \\\n",
       "0              0          ADORINI  2018  BENGALI  DRAMA/SOAP    male   \n",
       "1              0          ADORINI  2018  BENGALI  DRAMA/SOAP    male   \n",
       "2              0          ADORINI  2018  BENGALI  DRAMA/SOAP    male   \n",
       "3              0          ADORINI  2018  BENGALI  DRAMA/SOAP    male   \n",
       "4              0          ADORINI  2018  BENGALI  DRAMA/SOAP    male   \n",
       "...          ...              ...   ...      ...         ...     ...   \n",
       "28771       1198  NUMBER 1 KODALU  2022   TELUGU  DRAMA/SOAP  female   \n",
       "28772       1198  NUMBER 1 KODALU  2022   TELUGU  DRAMA/SOAP  female   \n",
       "28773       1198  NUMBER 1 KODALU  2022   TELUGU  DRAMA/SOAP  female   \n",
       "28774       1198  NUMBER 1 KODALU  2022   TELUGU  DRAMA/SOAP  female   \n",
       "28775       1198  NUMBER 1 KODALU  2022   TELUGU  DRAMA/SOAP  female   \n",
       "\n",
       "               age skintone  faces  \n",
       "0            young    light      3  \n",
       "1            young   medium      0  \n",
       "2            young     dark      1  \n",
       "3            adult    light   2211  \n",
       "4            adult   medium   1390  \n",
       "...            ...      ...    ...  \n",
       "28771  middle_aged   medium      0  \n",
       "28772  middle_aged     dark      0  \n",
       "28773          old    light      0  \n",
       "28774          old   medium      0  \n",
       "28775          old     dark      0  \n",
       "\n",
       "[28776 rows x 9 columns]"
      ]
     },
     "execution_count": 14,
     "metadata": {},
     "output_type": "execute_result"
    }
   ],
   "source": [
    "data_df"
   ]
  },
  {
   "cell_type": "code",
   "execution_count": null,
   "metadata": {},
   "outputs": [],
   "source": []
  }
 ],
 "metadata": {
  "kernelspec": {
   "display_name": "coreference",
   "language": "python",
   "name": "python3"
  },
  "language_info": {
   "codemirror_mode": {
    "name": "ipython",
    "version": 3
   },
   "file_extension": ".py",
   "mimetype": "text/x-python",
   "name": "python",
   "nbconvert_exporter": "python",
   "pygments_lexer": "ipython3",
   "version": "3.10.4"
  },
  "orig_nbformat": 4
 },
 "nbformat": 4,
 "nbformat_minor": 2
}
